{
  "cells": [
    {
      "cell_type": "markdown",
      "metadata": {
        "id": "view-in-github",
        "colab_type": "text"
      },
      "source": [
        "<a href=\"https://colab.research.google.com/github/mlingley/portfolio/blob/main/Scraping_info_from_website.ipynb\" target=\"_parent\"><img src=\"https://colab.research.google.com/assets/colab-badge.svg\" alt=\"Open In Colab\"/></a>"
      ]
    },
    {
      "cell_type": "code",
      "execution_count": null,
      "metadata": {
        "id": "hAHMkACDzt8V"
      },
      "outputs": [],
      "source": [
        "import pandas as pd\n",
        "import re\n",
        "import time\n",
        "import requests\n",
        "from bs4 import BeautifulSoup\n",
        "import csv"
      ]
    },
    {
      "cell_type": "code",
      "execution_count": null,
      "metadata": {
        "id": "IGzk-RxVzt8Y"
      },
      "outputs": [],
      "source": [
        "df = pd.read_csv(r'C:\\Users\\malin\\Downloads\\games.csv')"
      ]
    },
    {
      "cell_type": "code",
      "execution_count": null,
      "metadata": {
        "id": "kcULcW-Szt8Z",
        "outputId": "b91083e3-a1d7-4bbb-a98e-b5339fe16371"
      },
      "outputs": [
        {
          "data": {
            "text/html": [
              "<div>\n",
              "<style scoped>\n",
              "    .dataframe tbody tr th:only-of-type {\n",
              "        vertical-align: middle;\n",
              "    }\n",
              "\n",
              "    .dataframe tbody tr th {\n",
              "        vertical-align: top;\n",
              "    }\n",
              "\n",
              "    .dataframe thead th {\n",
              "        text-align: right;\n",
              "    }\n",
              "</style>\n",
              "<table border=\"1\" class=\"dataframe\">\n",
              "  <thead>\n",
              "    <tr style=\"text-align: right;\">\n",
              "      <th></th>\n",
              "      <th>0</th>\n",
              "    </tr>\n",
              "  </thead>\n",
              "  <tbody>\n",
              "    <tr>\n",
              "      <th>1</th>\n",
              "      <td>https://www.metacritic.com/game/last-train-home/</td>\n",
              "    </tr>\n",
              "    <tr>\n",
              "      <th>2</th>\n",
              "      <td>https://www.metacritic.com/game/call-of-duty-m...</td>\n",
              "    </tr>\n",
              "    <tr>\n",
              "      <th>3</th>\n",
              "      <td>https://www.metacritic.com/game/super-mario-rpg/</td>\n",
              "    </tr>\n",
              "    <tr>\n",
              "      <th>4</th>\n",
              "      <td>https://www.metacritic.com/game/alan-wake-ii/</td>\n",
              "    </tr>\n",
              "    <tr>\n",
              "      <th>5</th>\n",
              "      <td>https://www.metacritic.com/game/steamworld-build/</td>\n",
              "    </tr>\n",
              "    <tr>\n",
              "      <th>...</th>\n",
              "      <td>...</td>\n",
              "    </tr>\n",
              "    <tr>\n",
              "      <th>12439</th>\n",
              "      <td>https://www.metacritic.com/game/operencia-the-...</td>\n",
              "    </tr>\n",
              "    <tr>\n",
              "      <th>12440</th>\n",
              "      <td>https://www.metacritic.com/game/empire-earth-iii/</td>\n",
              "    </tr>\n",
              "    <tr>\n",
              "      <th>12441</th>\n",
              "      <td>https://www.metacritic.com/game/frozen-synapse...</td>\n",
              "    </tr>\n",
              "    <tr>\n",
              "      <th>12442</th>\n",
              "      <td>https://www.metacritic.com/game/pirates-of-the...</td>\n",
              "    </tr>\n",
              "    <tr>\n",
              "      <th>12443</th>\n",
              "      <td>https://www.metacritic.com/game/caveman-warriors/</td>\n",
              "    </tr>\n",
              "  </tbody>\n",
              "</table>\n",
              "<p>12443 rows × 1 columns</p>\n",
              "</div>"
            ],
            "text/plain": [
              "                                                       0\n",
              "1       https://www.metacritic.com/game/last-train-home/\n",
              "2      https://www.metacritic.com/game/call-of-duty-m...\n",
              "3       https://www.metacritic.com/game/super-mario-rpg/\n",
              "4          https://www.metacritic.com/game/alan-wake-ii/\n",
              "5      https://www.metacritic.com/game/steamworld-build/\n",
              "...                                                  ...\n",
              "12439  https://www.metacritic.com/game/operencia-the-...\n",
              "12440  https://www.metacritic.com/game/empire-earth-iii/\n",
              "12441  https://www.metacritic.com/game/frozen-synapse...\n",
              "12442  https://www.metacritic.com/game/pirates-of-the...\n",
              "12443  https://www.metacritic.com/game/caveman-warriors/\n",
              "\n",
              "[12443 rows x 1 columns]"
            ]
          },
          "execution_count": 89,
          "metadata": {},
          "output_type": "execute_result"
        }
      ],
      "source": [
        "df.drop(index=df.index[0], axis=0,inplace=True)\n",
        "df"
      ]
    },
    {
      "cell_type": "code",
      "execution_count": null,
      "metadata": {
        "id": "JSviNX10zt8a"
      },
      "outputs": [],
      "source": [
        "headers = {\"User-Agent\" : \"Mozilla/5.0 (Windows NT 10.0; Win64; x64) AppleWebKit/537.36 (KHTML, like Gecko) Chrome/119.0.0.0 Safari/537.36\"}\n",
        "html_text = requests.get(\"https://www.metacritic.com/browse/game/?releaseYearMin=1910&releaseYearMax=2023\", headers=headers)"
      ]
    },
    {
      "cell_type": "code",
      "execution_count": null,
      "metadata": {
        "id": "t_u1-4kpzt8a"
      },
      "outputs": [],
      "source": [
        "url_list = df.values.tolist()"
      ]
    },
    {
      "cell_type": "code",
      "execution_count": null,
      "metadata": {
        "id": "5fNKZcg8zt8b"
      },
      "outputs": [],
      "source": [
        "games_dict = {'Title':[], 'Release_date':[], 'Metascore':[], 'User_score':[]}\n",
        "\n",
        "url_list = df['0'].tolist()\n",
        "\n",
        "for url in url_list:\n",
        "    retries = 0\n",
        "    while retries < 3:\n",
        "        try:\n",
        "            print(f\"Processing URL: {url}\")\n",
        "            response = requests.get(url, headers=headers)\n",
        "            if response.status_code == 200:\n",
        "                soup = BeautifulSoup(response.text, 'html.parser')\n",
        "\n",
        "                # Extract title\n",
        "                title_element = soup.find('div', class_=re.compile('^c-productHero_title'))\n",
        "                title = title_element.get_text() if title_element else None\n",
        "                if title:\n",
        "                    games_dict['Title'].append(title)\n",
        "\n",
        "                # Extract release date\n",
        "                release_container = soup.find('div', class_=\"c-productHero_score-container\")\n",
        "                if release_container:\n",
        "                    release_span = release_container.find('div', class_=\"g-text-xsmall\")\n",
        "                    if release_span:\n",
        "                        release_date_element = release_span.find('span', class_=\"u-text-uppercase\")\n",
        "                        release_date = release_span.get_text(strip=True) if release_date_element else None\n",
        "                        games_dict['Release_date'].append(release_date)\n",
        "                    else:\n",
        "                        games_dict['Release_date'].append(None)\n",
        "\n",
        "                else:\n",
        "                    games_dict['Release_date'].append(None)\n",
        "\n",
        "                # Extract scores\n",
        "                scores = soup.find_all('div', class_='c-productScoreInfo_scoreNumber')\n",
        "                meta = scores[0].find('span').text if scores and len(scores) > 0 else None\n",
        "                user = scores[1].find('span').text if scores and len(scores) > 1 else None\n",
        "\n",
        "                games_dict['Metascore'].append(meta if meta else None)\n",
        "                games_dict['User_score'].append(user if user else None)\n",
        "\n",
        "                time.sleep(2)\n",
        "                break\n",
        "\n",
        "            elif response.status_code == 500:\n",
        "                retries += 1\n",
        "                print(f\"Retrying {url} - Retry attempt: {retries}\")\n",
        "                time.sleep(2)\n",
        "                continue  #Got a lot of 500 errors on the first attempt running the code, added a loop to retry on status error 500\n",
        "\n",
        "            else:\n",
        "                print(f\"Failed to get data from {url}. Status code: {response.status_code}\")\n",
        "                break\n",
        "\n",
        "        except requests.RequestException as e:\n",
        "            print(f\"Error accessing URL: {url}. Error: {e}\")\n",
        "            break\n",
        "\n",
        "print(games_dict)"
      ]
    },
    {
      "cell_type": "code",
      "execution_count": null,
      "metadata": {
        "id": "ho3795GLzt8c"
      },
      "outputs": [],
      "source": [
        "\n",
        "def cleaning_dict(games_dict):\n",
        "    games_dict_cleaned = {}\n",
        "    for key, value in games_dict.items():\n",
        "            cleaned_list = [item.strip() if isinstance(item, str) else item for item in value]\n",
        "            cleaned_list = [re.sub(r'Released On:', '', item) if isinstance(item, str) else item for item in cleaned_list]\n",
        "            games_dict_cleaned[key] = cleaned_list\n",
        "    return games_dict_cleaned\n",
        "\n",
        "#games_dict_cleaned.clear()\n",
        "games_dict_cleaned = cleaning_dict(games_dict)\n",
        "print(games_dict_cleaned)"
      ]
    },
    {
      "cell_type": "code",
      "execution_count": null,
      "metadata": {
        "id": "T-evRknDzt8d"
      },
      "outputs": [],
      "source": [
        "df = pd.DataFrame.from_dict(games_dict_cleaned, orient='index')\n",
        "#df.drop(df.index, inplace=True)"
      ]
    },
    {
      "cell_type": "code",
      "execution_count": null,
      "metadata": {
        "id": "tFOvHiJwzt8d"
      },
      "outputs": [],
      "source": [
        "pivoted = df.pivot(index=\"title\", columns=\"variable\")"
      ]
    },
    {
      "cell_type": "code",
      "execution_count": null,
      "metadata": {
        "id": "YMde0O23zt8d"
      },
      "outputs": [],
      "source": [
        "df.to_csv(r\"C:\\Users\\malin\\Downloads\\metacritic_games.csv\",index=False)"
      ]
    }
  ],
  "metadata": {
    "kernelspec": {
      "display_name": "Python 3",
      "language": "python",
      "name": "python3"
    },
    "language_info": {
      "codemirror_mode": {
        "name": "ipython",
        "version": 3
      },
      "file_extension": ".py",
      "mimetype": "text/x-python",
      "name": "python",
      "nbconvert_exporter": "python",
      "pygments_lexer": "ipython3",
      "version": "3.11.0"
    },
    "colab": {
      "provenance": [],
      "include_colab_link": true
    }
  },
  "nbformat": 4,
  "nbformat_minor": 0
}